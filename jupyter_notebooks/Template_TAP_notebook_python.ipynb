{
 "cells": [
  {
   "cell_type": "markdown",
   "metadata": {},
   "source": [
    "# TAP notebook template using python"
   ]
  },
  {
   "cell_type": "markdown",
   "metadata": {},
   "source": [
    "This is a template for creating [Jupyter notebooks](http://jupyter-notebook.readthedocs.io/en/stable/) that connect to the [Text Analytics Pipeline (TAP)](https://github.com/uts-cic/tap).\n",
    "\n",
    "Use this template to create your own Jupyter notebooks that use TAP. If you create something that may be useful to others, please consider contributing it to the [notebooks](https://github.com/uts-cic/tap/tree/master/jupyter_notebooks) in the TAP repo."
   ]
  },
  {
   "cell_type": "markdown",
   "metadata": {},
   "source": [
    "### Import necessary libraries\n",
    "\n",
    "We need to make sure that all necessary libraries are imported before they are used."
   ]
  },
  {
   "cell_type": "code",
   "execution_count": 38,
   "metadata": {
    "collapsed": false
   },
   "outputs": [],
   "source": [
    "from IPython.core.display import display, HTML  # Allows us to create annotated text using HTML and CSS\n",
    "import json                                     # We need to be able to work whith JSON which is returned by TAP\n",
    "from urllib import request, response            # To create requests to TAP and handle responses from TAP\n",
    "import string                                   # To help with visualising analytics\n",
    "import ipywidgets as widgets                    # Provides an interactive Textarea widget"
   ]
  },
  {
   "cell_type": "markdown",
   "metadata": {},
   "source": [
    "### Check the connection to TAP\n",
    "\n",
    "We need to ensure that we can actually connect to TAP, before trying asking it to analyse our text. TAP provides a health endpoint which we can use to check if the server is up.\n",
    "\n",
    "**[1]** Firstly, we need to set the ```URL``` for TAP, and the endpoint that we want request."
   ]
  },
  {
   "cell_type": "code",
   "execution_count": 39,
   "metadata": {
    "collapsed": true
   },
   "outputs": [],
   "source": [
    "tapUrl = \"http://tap-test.utscic.edu.au/\"   # TAP URL\n",
    "health = \"health\"                           # Health endpoint"
   ]
  },
  {
   "cell_type": "markdown",
   "metadata": {},
   "source": [
    "**[2]** Now we need to create a ```Request``` to send to the TAP server. \n",
    "> For now, this request is to the health endpoint, but later we will want to send a request to a different endpoint, that is why the ```tapurl``` is separate to the ```health``` endpoint."
   ]
  },
  {
   "cell_type": "code",
   "execution_count": 40,
   "metadata": {
    "collapsed": false
   },
   "outputs": [],
   "source": [
    "tapRequest = request.Request(tapUrl+health)   # The full URL is the URL for TAP + the health endpoint"
   ]
  },
  {
   "cell_type": "markdown",
   "metadata": {},
   "source": [
    "**[3]** We send the request to TAP and capture the response. \n",
    "\n",
    "The response from TAP is going to include a ```status``` which should be ```200``` signally that everything was OK on the server, and a ```body``` which is actually the web data that we are interested in."
   ]
  },
  {
   "cell_type": "code",
   "execution_count": 41,
   "metadata": {
    "collapsed": false
   },
   "outputs": [
    {
     "name": "stdout",
     "output_type": "stream",
     "text": [
      "200\n",
      "{\"message\":\"Ok\"}\n"
     ]
    }
   ],
   "source": [
    "tapResponse = request.urlopen(tapRequest)    # Send the request to TAP and capture the resonse\n",
    "print(tapResponse.status)                           # Print out the status code - it should be 200\n",
    "body = tapResponse.read().decode('utf8')            # If the status is OK, then read the body\n",
    "print(body)                                         # Print out the body. Should be: {\"message\":\"Ok\"}\n",
    "                                                    # If the request is unsuccessful, an error will be thrown\n"
   ]
  },
  {
   "cell_type": "markdown",
   "metadata": {},
   "source": [
    "### Using the JSON data\n",
    "\n",
    "Most of the time, when we get JSON data back from TAP we will want to process it in some way. So let's get the message into a variable so that we can use it in other parts of our code."
   ]
  },
  {
   "cell_type": "code",
   "execution_count": 42,
   "metadata": {
    "collapsed": false
   },
   "outputs": [
    {
     "name": "stdout",
     "output_type": "stream",
     "text": [
      "All is good\n"
     ]
    }
   ],
   "source": [
    "jsonData = json.loads(body)              # Change the raw text into a JSON object\n",
    "message = jsonData.get(\"message\")        # Get the actual message\n",
    "if message == 'Ok':                      # Use it in code\n",
    "  print(\"All is good\")\n",
    "else:\n",
    "  print(\"No good\")"
   ]
  },
  {
   "cell_type": "markdown",
   "metadata": {},
   "source": [
    "### Querying the Graphql endpoint on TAP\n",
    "\n",
    "The above shows how to connect to TAP and get basic data back, but to use TAP's analytics capability we need to send requests to the graphql endpoint that include the text that we want analysed.\n",
    "\n",
    "To do this, we need more than just the new endpoint in the request, we need the query itself, and a ```request header``` to tell TAP about the data format.\n",
    "\n",
    "**[1]** Because we will want to send queries with different text, let's create query function first. This one will identify modal expressions in the text."
   ]
  },
  {
   "cell_type": "code",
   "execution_count": 43,
   "metadata": {
    "collapsed": false
   },
   "outputs": [],
   "source": [
    "query = None              # A global variable to put the created query - Need a functional way of doing this!!\n",
    "def modalQuery(text):     # A function to create a modal expression query for TAP with given text\n",
    "    queryEntry = \"query Modal($input: String!){ expressions(text: $input) { analytics { modal { text }}}}\"\n",
    "    variableEntry = {'input':text}\n",
    "    global query\n",
    "    query = json.dumps({'query':queryEntry, 'variables':variableEntry})"
   ]
  },
  {
   "cell_type": "markdown",
   "metadata": {},
   "source": [
    "**[2]** We can pass this function to a text area widget which would allow us to auto-update the ```query``` variable when text is typed or pasted into the ```Input``` box."
   ]
  },
  {
   "cell_type": "code",
   "execution_count": 51,
   "metadata": {
    "collapsed": false
   },
   "outputs": [],
   "source": [
    "# Create the widget\n",
    "textArea = widgets.Textarea(                            \n",
    "              placeholder='Paste or type your text here',\n",
    "              description='Input:',\n",
    "              disabled=False )\n",
    "              \n",
    "# Add some demo text so that the user doesn't have to make something up              \n",
    "textArea.value = 'I would have prefered to code in Scala, but I will continue in Python for the benefit of others.'\n",
    "\n",
    "# Make the widget interactive. Note that assigning it to suppress, just stops the result being shown below the widget\n",
    "suppress = widgets.interact(modalQuery,text=ta)"
   ]
  },
  {
   "cell_type": "code",
   "execution_count": 52,
   "metadata": {
    "collapsed": false
   },
   "outputs": [
    {
     "name": "stdout",
     "output_type": "stream",
     "text": [
      "{\"query\": \"query Modal($input: String!){ expressions(text: $input) { analytics { modal { text }}}}\", \"variables\": {\"input\": \"I would have prefered to code in Scala, but I will continue in Python for the benefit of others.\"}}\n"
     ]
    }
   ],
   "source": [
    "print(query)                # print the json query that will be sent to TAP"
   ]
  },
  {
   "cell_type": "markdown",
   "metadata": {},
   "source": [
    "**[3]** Create the request ready for sending to TAP."
   ]
  },
  {
   "cell_type": "code",
   "execution_count": 53,
   "metadata": {
    "collapsed": false
   },
   "outputs": [],
   "source": [
    "endpoint = \"graphql\"                              # The query endpoint on TAP\n",
    "completeUrl = tapUrl + endpoint                   # The complete url that the request is posted to\n",
    "jsonHeader = {'Content-Type':'application/json'}  # A header to tell the server that we are using JSON\n",
    "queryRequest = request.Request(completeUrl, data = query.encode(\"utf8\"), headers = jsonHeader)"
   ]
  },
  {
   "cell_type": "markdown",
   "metadata": {},
   "source": [
    "**[4]** Send the request to the server and process the result into a JSON object that we can use."
   ]
  },
  {
   "cell_type": "code",
   "execution_count": 54,
   "metadata": {
    "collapsed": false
   },
   "outputs": [
    {
     "name": "stdout",
     "output_type": "stream",
     "text": [
      "{'data': {'expressions': {'analytics': [{'modal': [{'text': 'I would'}, {'text': 'I will'}]}]}}}\n",
      "[{'text': 'I would'}, {'text': 'I will'}]\n",
      "I would\n",
      "I will\n"
     ]
    }
   ],
   "source": [
    "tapResponse = request.urlopen(queryRequest) # Send the request to the server and capture the response\n",
    "body = tapResponse.read().decode('utf8')           # Extract the body from the response\n",
    "jsonData = json.loads(body)                        # Turn it into a JSON object\n",
    "print(jsonData)\n",
    "\n",
    "modalResults = jsonData.get('data').get('expressions').get('analytics')[0].get('modal')\n",
    "print(modalResults)                                # Get the relevant data from the JSON\n",
    "for entry in modalResults:                         # Print out the actual analytics\n",
    "  print(entry.get('text'))"
   ]
  },
  {
   "cell_type": "markdown",
   "metadata": {},
   "source": [
    "### Visualising the analytics in the original text\n",
    "\n",
    "The above code has demonstrated how to query TAP and retrieve analytics. Now we can visualise it in a way that is more meaningful for the average user.\n",
    "\n",
    "**[1]** First we need to create the HTML to be displayed."
   ]
  },
  {
   "cell_type": "code",
   "execution_count": 55,
   "metadata": {
    "collapsed": false
   },
   "outputs": [
    {
     "name": "stdout",
     "output_type": "stream",
     "text": [
      "<p><span class=\"modexp\">I would</span> have prefered to code in Scala, but <span class=\"modexp\">I will</span> continue in Python for the benefit of others.</p>\n"
     ]
    }
   ],
   "source": [
    "outputText = textArea.value\n",
    "for mr in modalResults:\n",
    "  fs = mr.get('text')\n",
    "  rs = '<span class=\"modexp\">'+fs+'</span>'\n",
    "  outputText = outputText.replace(fs,rs)\n",
    "\n",
    "paragraph = '<p>'+outputText+'</p>'\n",
    "html = HTML(paragraph)\n",
    "print(paragraph)"
   ]
  },
  {
   "cell_type": "markdown",
   "metadata": {},
   "source": [
    "**[2]** We need some ```CSS``` to set the style for our marked up analytics."
   ]
  },
  {
   "cell_type": "code",
   "execution_count": 56,
   "metadata": {
    "collapsed": true
   },
   "outputs": [],
   "source": [
    "css = HTML(\"\"\"\n",
    "<style>\n",
    ".modexp {\n",
    "    color: blue;\n",
    "    border-bottom: 1px red dashed;\n",
    "}\n",
    "</style>\n",
    "\n",
    "\"\"\")"
   ]
  },
  {
   "cell_type": "markdown",
   "metadata": {},
   "source": [
    "**[3]** And finally we can display the results."
   ]
  },
  {
   "cell_type": "code",
   "execution_count": 57,
   "metadata": {
    "collapsed": false
   },
   "outputs": [
    {
     "data": {
      "text/html": [
       "\n",
       "<style>\n",
       ".modexp {\n",
       "    color: blue;\n",
       "    border-bottom: 1px red dashed;\n",
       "}\n",
       "</style>\n",
       "\n"
      ],
      "text/plain": [
       "<IPython.core.display.HTML object>"
      ]
     },
     "metadata": {},
     "output_type": "execute_result"
    },
    {
     "data": {
      "text/html": [
       "<p><span class=\"modexp\">I would</span> have prefered to code in Scala, but <span class=\"modexp\">I will</span> continue in Python for the benefit of others.</p>"
      ],
      "text/plain": [
       "<IPython.core.display.HTML object>"
      ]
     },
     "metadata": {},
     "output_type": "execute_result"
    }
   ],
   "source": [
    "display(css,html)"
   ]
  },
  {
   "cell_type": "code",
   "execution_count": null,
   "metadata": {
    "collapsed": true
   },
   "outputs": [],
   "source": []
  }
 ],
 "metadata": {
  "kernelspec": {
   "display_name": "Python 3",
   "language": "python",
   "name": "python3"
  },
  "language_info": {
   "codemirror_mode": {
    "name": "ipython",
    "version": 3
   },
   "file_extension": ".py",
   "mimetype": "text/x-python",
   "name": "python",
   "nbconvert_exporter": "python",
   "pygments_lexer": "ipython3",
   "version": "3.4.2"
  },
  "widgets": {
   "state": {
    "45993015ea854d58907dd1ded7b34222": {
     "views": [
      {
       "cell_index": 15.0
      }
     ]
    }
   },
   "version": "1.2.0"
  }
 },
 "nbformat": 4,
 "nbformat_minor": 1
}
