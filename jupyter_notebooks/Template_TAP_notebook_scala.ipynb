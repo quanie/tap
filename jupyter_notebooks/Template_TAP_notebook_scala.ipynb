{
 "cells": [
  {
   "cell_type": "markdown",
   "metadata": {},
   "source": [
    "# TAP notebook template using python"
   ]
  },
  {
   "cell_type": "markdown",
   "metadata": {},
   "source": [
    "This is a template for creating [Jupyter notebooks](http://jupyter-notebook.readthedocs.io/en/stable/) that connect to the [Text Analytics Pipeline (TAP)](https://github.com/uts-cic/tap).\n",
    "\n",
    "Use this template to create your own Jupyter notebooks that use TAP. If you create something that may be useful to others, please consider contributing it to the [notebooks](https://github.com/uts-cic/tap/tree/master/jupyter_notebooks) in the TAP repo."
   ]
  },
  {
   "cell_type": "markdown",
   "metadata": {},
   "source": [
    "### Import necessary libraries\n",
    "\n",
    "We need to make sure that all necessary libraries are imported before they are used."
   ]
  },
  {
   "cell_type": "code",
   "execution_count": 34,
   "metadata": {},
   "outputs": [
    {
     "name": "stdout",
     "output_type": "stream",
     "text": [
      "Marking org.scalaj:scalaj-http_2.11:2.3.0 for download\n",
      "Preparing to fetch from:\n",
      "-> file:/tmp/toree_add_deps6924190800534886023/\n",
      "-> https://repo1.maven.org/maven2\n",
      "-> New file at /tmp/toree_add_deps6924190800534886023/https/repo1.maven.org/maven2/org/scalaj/scalaj-http_2.11/2.3.0/scalaj-http_2.11-2.3.0.jar\n",
      "Marking org.sangria-graphql:sangria_2.11:1.3.0 for download\n",
      "Preparing to fetch from:\n",
      "-> file:/tmp/toree_add_deps6924190800534886023/\n",
      "-> https://repo1.maven.org/maven2\n",
      "-> New file at /tmp/toree_add_deps6924190800534886023/https/repo1.maven.org/maven2/org/sangria-graphql/sangria_2.11/1.3.0/sangria_2.11-1.3.0.jar\n",
      "Marking org.sangria-graphql:sangria-marshalling-api_2.11:1.0.0 for download\n",
      "Preparing to fetch from:\n",
      "-> file:/tmp/toree_add_deps6924190800534886023/\n",
      "-> https://repo1.maven.org/maven2\n",
      "-> New file at /tmp/toree_add_deps6924190800534886023/https/repo1.maven.org/maven2/org/sangria-graphql/sangria-marshalling-api_2.11/1.0.0/sangria-marshalling-api_2.11-1.0.0.jar\n",
      "Marking org.json4s:json4s-jackson_2.11:3.5.3 for download\n",
      "Preparing to fetch from:\n",
      "-> file:/tmp/toree_add_deps6924190800534886023/\n",
      "-> https://repo1.maven.org/maven2\n",
      "-> New file at /tmp/toree_add_deps6924190800534886023/https/repo1.maven.org/maven2/org/json4s/json4s-jackson_2.11/3.5.3/json4s-jackson_2.11-3.5.3.jar\n"
     ]
    }
   ],
   "source": [
    "%AddDeps org.scalaj scalaj-http_2.11 2.3.0\n",
    "%AddDeps org.sangria-graphql sangria_2.11 1.3.0\n",
    "%AddDeps org.sangria-graphql sangria-marshalling-api_2.11 1.0.0\n",
    "%AddDeps org.json4s json4s-jackson_2.11 3.5.3"
   ]
  },
  {
   "cell_type": "code",
   "execution_count": 36,
   "metadata": {},
   "outputs": [],
   "source": [
    "import scalaj.http._                           // Handle connecting to TAP\n",
    "import org.json4s._\n",
    "import org.json4s.jackson.JsonMethods._"
   ]
  },
  {
   "cell_type": "markdown",
   "metadata": {},
   "source": [
    "### Check the connection to TAP\n",
    "\n",
    "We need to ensure that we can actually connect to TAP, before trying asking it to analyse our text. TAP provides a health endpoint which we can use to check if the server is up.\n",
    "\n",
    "**[1]** Firstly, we need to set the ```URL``` for TAP, and the endpoint that we want request."
   ]
  },
  {
   "cell_type": "code",
   "execution_count": 37,
   "metadata": {},
   "outputs": [],
   "source": [
    "val tapUrl = \"http://tap-test.utscic.edu.au/\"   // TAP URL\n",
    "val health = \"health\"                           // Health endpoint"
   ]
  },
  {
   "cell_type": "markdown",
   "metadata": {},
   "source": [
    "**[2]** Now we need to create a ```Request``` to send to the TAP server. \n",
    "> For now, this request is to the health endpoint, but later we will want to send a request to a different endpoint, that is why the ```tapurl``` is separate to the ```health``` endpoint."
   ]
  },
  {
   "cell_type": "code",
   "execution_count": 38,
   "metadata": {},
   "outputs": [],
   "source": [
    "val tapRequest = Http(tapUrl+health)    // The full URL is the URL for TAP + the health endpoint"
   ]
  },
  {
   "cell_type": "markdown",
   "metadata": {},
   "source": [
    "**[3]** We send the request to TAP and capture the response. \n",
    "\n",
    "The response from TAP is going to include a ```status``` which should be ```200``` signally that everything was OK on the server, and a ```body``` which is actually the web data that we are interested in. If the request is unsuccessful, an error page will be returned. If the URL does not exist, the status code will be ```404``` (Not found). "
   ]
  },
  {
   "cell_type": "code",
   "execution_count": 39,
   "metadata": {},
   "outputs": [
    {
     "name": "stdout",
     "output_type": "stream",
     "text": [
      "200\n",
      "{\"message\":\"Ok\"}\n"
     ]
    }
   ],
   "source": [
    "val tapResponse = tapRequest.asString   // Initiate the request and capture the response\n",
    "println(tapResponse.code)               // Print out the status code - it should be 200\n",
    "println(tapResponse.body)               // Print out the body. Should be: {\"message\":\"Ok\"}"
   ]
  },
  {
   "cell_type": "markdown",
   "metadata": {},
   "source": [
    "### Using the JSON data\n",
    "\n",
    "Most of the time, when we get JSON data back from TAP we will want to process it in some way. So let's get the message into a variable so that we can use it in other parts of our code."
   ]
  },
  {
   "cell_type": "code",
   "execution_count": 49,
   "metadata": {},
   "outputs": [
    {
     "name": "stdout",
     "output_type": "stream",
     "text": [
      "All good"
     ]
    }
   ],
   "source": [
    "val jsonData = parse(tapResponse.body)                // Change the raw text into a JSON object\n",
    "implicit val formats = DefaultFormats                 // An implicit allows extraction to scala Ojbect from JValue\n",
    "val message = (jsonData \\ \"message\").extract[String]  // Get the actual message\n",
    "message match {                                       // Use it in code\n",
    "    case \"Ok\" => print(\"All good\")\n",
    "    case _ => print(\"No good\")\n",
    "}"
   ]
  },
  {
   "cell_type": "markdown",
   "metadata": {},
   "source": [
    "### Querying the Graphql endpoint on TAP\n",
    "\n",
    "The above shows how to connect to TAP and get basic data back, but to use TAP's analytics capability we need to send requests to the graphql endpoint that include the text that we want analysed.\n",
    "\n",
    "To do this, we need more than just the new endpoint in the request, we need the query itself, and a ```request header``` to tell TAP about the data format.\n",
    "\n",
    "**[1]** Because we will want to send queries with different text, let's create query function first. This one will identify modal expressions in the text."
   ]
  },
  {
   "cell_type": "code",
   "execution_count": 59,
   "metadata": {},
   "outputs": [
    {
     "name": "stdout",
     "output_type": "stream",
     "text": [
      "{\"query\":\"\\n    query Modal($input: String!) {\\n      expressions(text: $input) {\\n        analytics {\\n          modal {\\n            text\\n          }\\n        }\\n      }\\n    }\",\"variables\":{\"input\":\"I would have prefered to code in Scala, but I will continue in Python for the benefit of others.\"}}\n"
     ]
    }
   ],
   "source": [
    "//query = None              # A global variable to put the created query - Need a functional way of doing this!!\n",
    "//def modalQuery(text):     # A function to create a modal expression query for TAP with given text\n",
    "//    queryEntry = \"query Modal($input: String!){ expressions(text: $input) { analytics { modal { text }}}}\"\n",
    "//    variableEntry = {'input':text}\n",
    "//    global query\n",
    "//    query = json.dumps({'query':queryEntry, 'variables':variableEntry})\n",
    "\n",
    "val myText = \"I would have prefered to code in Scala, but I will continue in Python for the benefit of others.\"\n",
    "val query = \"\"\"\n",
    "    query Modal($input: String!) {\n",
    "      expressions(text: $input) {\n",
    "        analytics {\n",
    "          modal {\n",
    "            text\n",
    "          }\n",
    "        }\n",
    "      }\n",
    "    }\"\"\"\n",
    "\n",
    "import org.json4s.JsonDSL._\n",
    "val variables = (\"input\" -> myText)\n",
    "val fullQuery = (\"query\" -> query) ~ (\"variables\" -> variables)\n",
    "val jsonQuery = compact(render(fullQuery))\n",
    "println(jsonQuery)"
   ]
  },
  {
   "cell_type": "markdown",
   "metadata": {},
   "source": [
    "**[2]** We can pass this function to a text area widget which would allow us to auto-update the ```query``` variable when text is typed or pasted into the ```Input``` box."
   ]
  },
  {
   "cell_type": "code",
   "execution_count": null,
   "metadata": {},
   "outputs": [],
   "source": [
    "//# Create the widget\n",
    "//textArea = widgets.Textarea(                            \n",
    "//              placeholder='Paste or type your text here',\n",
    "//              description='Input:',\n",
    "//              disabled=False )\n",
    "//              \n",
    "//# Add some demo text so that the user doesn't have to make something up              \n",
    "//textArea.value = 'I would have prefered to code in Scala, but I will continue in Python for the benefit of others.'\n",
    "\n",
    "//# Make the widget interactive. Note that assigning it to suppress, just stops the result being shown below the widget\n",
    "//suppress = widgets.interact(modalQuery,text=textArea)"
   ]
  },
  {
   "cell_type": "code",
   "execution_count": null,
   "metadata": {},
   "outputs": [],
   "source": [
    "//print(query)                # print the json query that will be sent to TAP"
   ]
  },
  {
   "cell_type": "markdown",
   "metadata": {},
   "source": [
    "**[3]** Create the request ready for sending to TAP."
   ]
  },
  {
   "cell_type": "code",
   "execution_count": 60,
   "metadata": {},
   "outputs": [],
   "source": [
    "val endpoint = \"graphql\"                              // The query endpoint on TAP\n",
    "val completeUrl = tapUrl + endpoint                   // The complete url that the request is posted to\n",
    "val queryRequest = Http(completeUrl).postData(jsonQuery).header(\"content-type\", \"application/json\") //The request"
   ]
  },
  {
   "cell_type": "markdown",
   "metadata": {},
   "source": [
    "**[4]** Send the request to the server and process the result into a JSON object that we can use."
   ]
  },
  {
   "cell_type": "code",
   "execution_count": 70,
   "metadata": {},
   "outputs": [
    {
     "name": "stdout",
     "output_type": "stream",
     "text": [
      "List(I would, I will)\n",
      "I would\n",
      "I will\n"
     ]
    },
    {
     "data": {
      "text/plain": [
       "Name: Syntax Error.\n",
       "Message: \n",
       "StackTrace: "
      ]
     },
     "execution_count": 70,
     "metadata": {},
     "output_type": "execute_result"
    }
   ],
   "source": [
    "val tapResponse = queryRequest.asString     // Send the request to the server and capture the response\n",
    "val queryData = parse(tapResponse.body)                // Change the raw text into a JSON object\n",
    "//println(queryData)\n",
    "\n",
    "implicit val formats = DefaultFormats                 // An implicit allows extraction to scala Ojbect from JValue\n",
    "val modalResults = ((queryData \\ \"data\" \\ \"expressions\" \\ \"analytics\")(0) \\ \"modal\" \\ \"text\").extract[List[String]]\n",
    "println(modalResults)\n",
    "modalResults.foreach(println(_))"
   ]
  },
  {
   "cell_type": "markdown",
   "metadata": {},
   "source": [
    "### Visualising the analytics in the original text\n",
    "\n",
    "The above code has demonstrated how to query TAP and retrieve analytics. Now we can visualise it in a way that is more meaningful for the average user.\n",
    "\n",
    "**[1]** First we need to create the HTML to be displayed."
   ]
  },
  {
   "cell_type": "code",
   "execution_count": 73,
   "metadata": {},
   "outputs": [
    {
     "name": "stdout",
     "output_type": "stream",
     "text": [
      "<p><span class=\"modexp\">I would</span> have prefered to code in Scala, but <span class=\"modexp\">I will</span> continue in Python for the benefit of others.</p>\n"
     ]
    }
   ],
   "source": [
    "val outputText = modalResults.map(\n",
    "    str => (str,s\"\"\"<span class=\"modexp\">$str</span>\"\"\")\n",
    ").foldLeft(myText)((s,r) => s.replaceAll(r._1,r._2))\n",
    "//for mr in modalResults:\n",
    "//  fs = mr.get('text')\n",
    "//  rs = '<span class=\"modexp\">'+fs+'</span>'\n",
    "//  outputText = outputText.replace(fs,rs)\n",
    "\n",
    "val paragraph = s\"<p>$outputText</p>\"\n",
    "//html = HTML(paragraph)\n",
    "println(paragraph)"
   ]
  },
  {
   "cell_type": "markdown",
   "metadata": {},
   "source": [
    "**[2]** We need some ```CSS``` to set the style for our marked up analytics."
   ]
  },
  {
   "cell_type": "code",
   "execution_count": 75,
   "metadata": {},
   "outputs": [],
   "source": [
    "val css = \"\"\"\n",
    "<style>\n",
    ".modexp {\n",
    "    color: blue;\n",
    "    border-bottom: 1px red dashed;\n",
    "}\n",
    "</style>\n",
    "\"\"\""
   ]
  },
  {
   "cell_type": "markdown",
   "metadata": {},
   "source": [
    "**[3]** And finally we can display the results."
   ]
  },
  {
   "cell_type": "code",
   "execution_count": 76,
   "metadata": {},
   "outputs": [
    {
     "data": {
      "text/html": [
       "\n",
       "<style>\n",
       ".modexp {\n",
       "    color: blue;\n",
       "    border-bottom: 1px red dashed;\n",
       "}\n",
       "</style>\n",
       "<p><span class=\"modexp\">I would</span> have prefered to code in Scala, but <span class=\"modexp\">I will</span> continue in Python for the benefit of others.</p>"
      ]
     },
     "execution_count": 76,
     "metadata": {},
     "output_type": "execute_result"
    }
   ],
   "source": [
    "import org.apache.toree.magic.{CellMagicOutput, CellMagic}\n",
    "import org.apache.toree.kernel.protocol.v5.{Data, MIMEType}\n",
    "\n",
    "def display_html(html: String) = Left(CellMagicOutput(MIMEType.TextHtml -> html))\n",
    "display_html(css+paragraph)"
   ]
  },
  {
   "cell_type": "code",
   "execution_count": 77,
   "metadata": {},
   "outputs": [
    {
     "data": {
      "text/html": [
       "<urth-help/>"
      ]
     },
     "execution_count": 77,
     "metadata": {},
     "output_type": "execute_result"
    }
   ],
   "source": [
    "%%HTML\n",
    "<urth-help/>"
   ]
  },
  {
   "cell_type": "code",
   "execution_count": null,
   "metadata": {},
   "outputs": [],
   "source": []
  }
 ],
 "metadata": {
  "kernelspec": {
   "display_name": "Apache Toree - Scala",
   "language": "scala",
   "name": "apache_toree_scala"
  },
  "language_info": {
   "file_extension": ".scala",
   "name": "scala",
   "version": "2.11.8"
  },
  "widgets": {
   "state": {
    "45993015ea854d58907dd1ded7b34222": {
     "views": [
      {
       "cell_index": 15
      }
     ]
    }
   },
   "version": "1.2.0"
  }
 },
 "nbformat": 4,
 "nbformat_minor": 1
}
